{
 "cells": [
  {
   "cell_type": "code",
   "execution_count": 1,
   "id": "dbac1ea6",
   "metadata": {
    "scrolled": true
   },
   "outputs": [
    {
     "name": "stdout",
     "output_type": "stream",
     "text": [
      "(3000, 3)\n"
     ]
    },
    {
     "data": {
      "text/plain": [
       "'NOx_labels2.csv'"
      ]
     },
     "execution_count": 1,
     "metadata": {},
     "output_type": "execute_result"
    }
   ],
   "source": [
    "import pandas as pd\n",
    "import numpy as np\n",
    "\n",
    "num_val = 2100\n",
    "num_fixed = 300\n",
    "\n",
    "# Define realistic ranges for each gas\n",
    "#no_range = (0.1, 300)\n",
    "#no2_range = (0.1, 200)\n",
    "#n2o_range = (260, 420)\n",
    "no_range = (0.01, 0.30)\n",
    "no2_range = (0.01, 0.30)\n",
    "n2o_range = (0.01, 0.30)\n",
    "\n",
    "# Generate 1000 samples for each gas\n",
    "no_samples = np.random.uniform(*no_range, num_val)\n",
    "no2_samples = np.random.uniform(*no2_range, num_val)\n",
    "n2o_samples = np.random.uniform(*n2o_range, num_val)\n",
    "\n",
    "# Create DataFrame\n",
    "df = pd.DataFrame({\n",
    "    'NO': no_samples,#*1e-9,\n",
    "    'NO2': no2_samples,#*1e-9,\n",
    "    'N2O': n2o_samples#*1e-9\n",
    "})\n",
    "\n",
    "# Set fixed values (mean of each range)\n",
    "fixed_no = 0\n",
    "fixed_no2 = 0\n",
    "fixed_n2o = 0\n",
    "\n",
    "# Create block where only NO varies\n",
    "no_varied = np.random.uniform(*no_range, num_fixed)\n",
    "df_no_only = pd.DataFrame({\n",
    "    'NO': no_varied, #* 1e-9,\n",
    "    'NO2': np.full(num_fixed, fixed_no2),# * 1e-9),\n",
    "    'N2O': np.full(num_fixed, fixed_n2o)# * 1e-9)\n",
    "})\n",
    "\n",
    "# Create block where only NO2 varies\n",
    "no2_varied = np.random.uniform(*no2_range, num_fixed)\n",
    "df_no2_only = pd.DataFrame({\n",
    "    'NO': np.full(num_fixed, fixed_no),# * 1e-9),\n",
    "    'NO2': no2_varied * 1e-9,#,\n",
    "    'N2O': np.full(num_fixed, fixed_n2o)# * 1e-9)\n",
    "})\n",
    "\n",
    "# Create block where only N2O varies\n",
    "n2o_varied = np.random.uniform(*n2o_range, num_fixed)\n",
    "df_n2o_only = pd.DataFrame({\n",
    "    'NO': np.full(num_fixed, fixed_no),# * 1e-9),\n",
    "    'NO2': np.full(num_fixed, fixed_no2),# * 1e-9),\n",
    "    'N2O': n2o_varied# * 1e-9\n",
    "})\n",
    "\n",
    "# Combine all data\n",
    "df = pd.concat([df, df_no_only, df_no2_only, df_n2o_only], ignore_index=True)\n",
    "\n",
    "print(df.shape)\n",
    "\n",
    "# Save to Excel\n",
    "output_path = \"NOx_labels2.csv\"\n",
    "df.to_csv(output_path, index=False)\n",
    "\n",
    "output_path"
   ]
  },
  {
   "cell_type": "code",
   "execution_count": 4,
   "id": "f224a518",
   "metadata": {},
   "outputs": [
    {
     "name": "stdout",
     "output_type": "stream",
     "text": [
      "NO     0.248192\n",
      "NO2    0.000000\n",
      "N2O    0.000000\n",
      "Name: 2100, dtype: float64\n"
     ]
    }
   ],
   "source": [
    "print(df.iloc[2100])"
   ]
  },
  {
   "cell_type": "code",
   "execution_count": 2,
   "id": "afd5218e",
   "metadata": {},
   "outputs": [
    {
     "name": "stdout",
     "output_type": "stream",
     "text": [
      "         NO       NO2       N2O\n",
      "0  0.154648  0.053225  0.209225\n",
      "1  0.074696  0.209915  0.015951\n",
      "2  0.092272  0.164528  0.034313\n",
      "3  0.282413  0.171813  0.288543\n",
      "4  0.011018  0.028026  0.225851\n"
     ]
    }
   ],
   "source": [
    "print(df.head())"
   ]
  },
  {
   "cell_type": "code",
   "execution_count": null,
   "id": "e62813f0",
   "metadata": {},
   "outputs": [],
   "source": []
  }
 ],
 "metadata": {
  "kernelspec": {
   "display_name": "Python 3 (ipykernel)",
   "language": "python",
   "name": "python3"
  },
  "language_info": {
   "codemirror_mode": {
    "name": "ipython",
    "version": 3
   },
   "file_extension": ".py",
   "mimetype": "text/x-python",
   "name": "python",
   "nbconvert_exporter": "python",
   "pygments_lexer": "ipython3",
   "version": "3.10.9"
  }
 },
 "nbformat": 4,
 "nbformat_minor": 5
}
