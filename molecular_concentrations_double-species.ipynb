{
 "cells": [
  {
   "cell_type": "code",
   "execution_count": 10,
   "id": "29a6b3ac",
   "metadata": {},
   "outputs": [
    {
     "name": "stdout",
     "output_type": "stream",
     "text": [
      "(1200, 2)\n"
     ]
    },
    {
     "data": {
      "text/plain": [
       "'NOx_labels_double.csv'"
      ]
     },
     "execution_count": 10,
     "metadata": {},
     "output_type": "execute_result"
    }
   ],
   "source": [
    "import pandas as pd\n",
    "import numpy as np\n",
    "\n",
    "num_val = 800\n",
    "num_fixed = 200\n",
    "\n",
    "# Define realistic ranges for each gas (NO and NO2 only)\n",
    "no_range = (0.01, 0.45)\n",
    "no2_range = (0.01, 0.45)\n",
    "\n",
    "# Generate samples\n",
    "no_samples = np.random.uniform(*no_range, num_val)\n",
    "no2_samples = np.random.uniform(*no2_range, num_val)\n",
    "\n",
    "# Create DataFrame\n",
    "df = pd.DataFrame({\n",
    "    'NO': no_samples,\n",
    "    'NO2': no2_samples\n",
    "})\n",
    "\n",
    "# Set fixed values (you can set them to any constant, currently 0)\n",
    "fixed_no = 0\n",
    "fixed_no2 = 0\n",
    "\n",
    "# Create block where only NO varies\n",
    "no_varied = np.random.uniform(*no_range, num_fixed)\n",
    "df_no_only = pd.DataFrame({\n",
    "    'NO': no_varied,\n",
    "    'NO2': np.full(num_fixed, fixed_no2)\n",
    "})\n",
    "\n",
    "# Create block where only NO2 varies\n",
    "no2_varied = np.random.uniform(*no2_range, num_fixed)\n",
    "df_no2_only = pd.DataFrame({\n",
    "    'NO': np.full(num_fixed, fixed_no),\n",
    "    'NO2': no2_varied\n",
    "})\n",
    "\n",
    "# Combine all data\n",
    "df = pd.concat([df, df_no_only, df_no2_only], ignore_index=True)\n",
    "\n",
    "print(df.shape)\n",
    "\n",
    "# Save to CSV\n",
    "output_path = \"NOx_labels_double.csv\"\n",
    "df.to_csv(output_path, index=False)\n",
    "\n",
    "output_path\n"
   ]
  },
  {
   "cell_type": "code",
   "execution_count": 11,
   "id": "b3a193a4",
   "metadata": {},
   "outputs": [
    {
     "name": "stdout",
     "output_type": "stream",
     "text": [
      "         NO       NO2\n",
      "0  0.326811  0.224041\n",
      "1  0.254800  0.377651\n",
      "2  0.387675  0.088718\n",
      "3  0.319454  0.440410\n",
      "4  0.253233  0.295521\n",
      "5  0.141472  0.232816\n",
      "6  0.243200  0.369028\n",
      "7  0.321290  0.281990\n",
      "8  0.045232  0.361063\n",
      "9  0.300946  0.269876\n"
     ]
    }
   ],
   "source": [
    "print(df.head(10))"
   ]
  },
  {
   "cell_type": "code",
   "execution_count": 14,
   "id": "57e3218b",
   "metadata": {},
   "outputs": [
    {
     "name": "stdout",
     "output_type": "stream",
     "text": [
      "NO     0.000000\n",
      "NO2    0.207228\n",
      "Name: 1002, dtype: float64\n"
     ]
    }
   ],
   "source": [
    "print(df.iloc[1002])"
   ]
  },
  {
   "cell_type": "code",
   "execution_count": null,
   "id": "8d68d1c5",
   "metadata": {},
   "outputs": [],
   "source": []
  },
  {
   "cell_type": "code",
   "execution_count": null,
   "id": "015d8a9f",
   "metadata": {},
   "outputs": [],
   "source": []
  }
 ],
 "metadata": {
  "kernelspec": {
   "display_name": "Python 3 (ipykernel)",
   "language": "python",
   "name": "python3"
  },
  "language_info": {
   "codemirror_mode": {
    "name": "ipython",
    "version": 3
   },
   "file_extension": ".py",
   "mimetype": "text/x-python",
   "name": "python",
   "nbconvert_exporter": "python",
   "pygments_lexer": "ipython3",
   "version": "3.10.9"
  }
 },
 "nbformat": 4,
 "nbformat_minor": 5
}
