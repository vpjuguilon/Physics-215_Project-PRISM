{
 "cells": [
  {
   "cell_type": "code",
   "execution_count": 1,
   "id": "56d4277f",
   "metadata": {},
   "outputs": [
    {
     "name": "stdout",
     "output_type": "stream",
     "text": [
      "(16, 3)\n"
     ]
    },
    {
     "data": {
      "text/plain": [
       "'NOx_labels_triple.csv'"
      ]
     },
     "execution_count": 1,
     "metadata": {},
     "output_type": "execute_result"
    }
   ],
   "source": [
    "import pandas as pd\n",
    "import numpy as np\n",
    "\n",
    "num_val = 16\n",
    "\n",
    "# Define realistic ranges for each gas\n",
    "#no_range = (0.1, 300)\n",
    "#no2_range = (0.1, 200)\n",
    "#n2o_range = (260, 420)\n",
    "no_range = (0.01, 0.30)\n",
    "no2_range = (0.01, 0.30)\n",
    "n2o_range = (0.01, 0.30)\n",
    "\n",
    "# Generate 1000 samples for each gas\n",
    "no_samples = np.random.uniform(*no_range, num_val)\n",
    "no2_samples = np.random.uniform(*no2_range, num_val)\n",
    "n2o_samples = np.random.uniform(*n2o_range, num_val)\n",
    "\n",
    "# Create DataFrame\n",
    "df = pd.DataFrame({\n",
    "    'NO': no_samples,\n",
    "    'NO2': no2_samples,\n",
    "    'N2O': n2o_samples,\n",
    "})\n",
    "\n",
    "\n",
    "\n",
    "print(df.shape)\n",
    "\n",
    "# Save to Excel\n",
    "output_path = \"NOx_labels_triple.csv\"\n",
    "df.to_csv(output_path, index=False)\n",
    "\n",
    "output_path"
   ]
  },
  {
   "cell_type": "code",
   "execution_count": 2,
   "id": "3d7d204f",
   "metadata": {},
   "outputs": [
    {
     "name": "stdout",
     "output_type": "stream",
     "text": [
      "         NO       NO2       N2O\n",
      "0  0.113801  0.160399  0.034272\n",
      "1  0.141742  0.136338  0.080636\n",
      "2  0.286655  0.258286  0.081529\n",
      "3  0.110733  0.268010  0.149431\n",
      "4  0.154024  0.109491  0.226606\n",
      "5  0.086253  0.043491  0.278358\n",
      "6  0.237780  0.298700  0.296965\n",
      "7  0.157167  0.014477  0.218238\n",
      "8  0.059410  0.193303  0.203175\n",
      "9  0.018619  0.147365  0.164390\n"
     ]
    }
   ],
   "source": [
    "print(df.head(10))"
   ]
  },
  {
   "cell_type": "code",
   "execution_count": null,
   "id": "0ddbca8b",
   "metadata": {},
   "outputs": [],
   "source": []
  }
 ],
 "metadata": {
  "kernelspec": {
   "display_name": "Python 3 (ipykernel)",
   "language": "python",
   "name": "python3"
  },
  "language_info": {
   "codemirror_mode": {
    "name": "ipython",
    "version": 3
   },
   "file_extension": ".py",
   "mimetype": "text/x-python",
   "name": "python",
   "nbconvert_exporter": "python",
   "pygments_lexer": "ipython3",
   "version": "3.10.9"
  }
 },
 "nbformat": 4,
 "nbformat_minor": 5
}
