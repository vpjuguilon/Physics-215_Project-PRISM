{
 "cells": [
  {
   "cell_type": "code",
   "execution_count": null,
   "id": "7f533f87",
   "metadata": {},
   "outputs": [],
   "source": [
    "import pandas as pd\n",
    "import numpy as np\n",
    "\n",
    "num_val = 16\n",
    "\n",
    "# Define realistic ranges for each gas\n",
    "#no_range = (0.1, 300)\n",
    "#no2_range = (0.1, 200)\n",
    "#n2o_range = (260, 420)\n",
    "no_range = (0.01, 0.30)\n",
    "no2_range = (0.01, 0.30)\n",
    "n2o_range = (0.01, 0.30)\n",
    "\n",
    "# Generate 1000 samples for each gas\n",
    "no_samples = np.random.uniform(*no_range, num_val)\n",
    "no2_samples = np.random.uniform(*no2_range, num_val)\n",
    "n2o_samples = np.random.uniform(*n2o_range, num_val)\n",
    "\n",
    "# Create DataFrame\n",
    "df = pd.DataFrame({\n",
    "    'NO': no_samples,\n",
    "    'NO2': no2_samples,\n",
    "    'N2O': n2O_samples,\n",
    "})\n",
    "\n",
    "\n",
    "\n",
    "print(df.shape)\n",
    "\n",
    "# Save to Excel\n",
    "output_path = \"NOx_labels_double.csv\"\n",
    "df.to_csv(output_path, index=False)\n",
    "\n",
    "output_path"
   ]
  }
 ],
 "metadata": {
  "kernelspec": {
   "display_name": "Python 3 (ipykernel)",
   "language": "python",
   "name": "python3"
  },
  "language_info": {
   "codemirror_mode": {
    "name": "ipython",
    "version": 3
   },
   "file_extension": ".py",
   "mimetype": "text/x-python",
   "name": "python",
   "nbconvert_exporter": "python",
   "pygments_lexer": "ipython3",
   "version": "3.10.9"
  }
 },
 "nbformat": 4,
 "nbformat_minor": 5
}
