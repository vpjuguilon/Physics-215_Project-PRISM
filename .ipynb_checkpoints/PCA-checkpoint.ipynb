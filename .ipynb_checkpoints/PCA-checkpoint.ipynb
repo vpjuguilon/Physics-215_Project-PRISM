{
 "cells": [
  {
   "cell_type": "code",
   "execution_count": 28,
   "id": "42763854",
   "metadata": {},
   "outputs": [
    {
     "name": "stdout",
     "output_type": "stream",
     "text": [
      "<class 'pandas.core.frame.DataFrame'>\n",
      "RangeIndex: 800 entries, 0 to 799\n",
      "Columns: 5201 entries, Unnamed: 0 to 5555.555555555556\n",
      "dtypes: float64(5200), int64(1)\n",
      "memory usage: 31.7 MB\n"
     ]
    },
    {
     "ename": "NameError",
     "evalue": "name 'X' is not defined",
     "output_type": "error",
     "traceback": [
      "\u001b[1;31m---------------------------------------------------------------------------\u001b[0m",
      "\u001b[1;31mNameError\u001b[0m                                 Traceback (most recent call last)",
      "Cell \u001b[1;32mIn[28], line 19\u001b[0m\n\u001b[0;32m     17\u001b[0m \u001b[38;5;66;03m# --- Log-transform spectra ---\u001b[39;00m\n\u001b[0;32m     18\u001b[0m epsilon \u001b[38;5;241m=\u001b[39m \u001b[38;5;241m1e-25\u001b[39m  \u001b[38;5;66;03m# Small constant to avoid log(0)\u001b[39;00m\n\u001b[1;32m---> 19\u001b[0m X_log \u001b[38;5;241m=\u001b[39m np\u001b[38;5;241m.\u001b[39mlog10(\u001b[43mX\u001b[49m \u001b[38;5;241m+\u001b[39m epsilon)\n\u001b[0;32m     21\u001b[0m \u001b[38;5;66;03m# --- Standardize spectra ---\u001b[39;00m\n\u001b[0;32m     22\u001b[0m scaler \u001b[38;5;241m=\u001b[39m StandardScaler()\n",
      "\u001b[1;31mNameError\u001b[0m: name 'X' is not defined"
     ]
    }
   ],
   "source": [
    "from sklearn.preprocessing import StandardScaler\n",
    "from sklearn.decomposition import PCA\n",
    "import matplotlib.pyplot as plt\n",
    "import numpy as np\n",
    "import pandas as pd\n",
    "\n",
    "# Load the CSV file\n",
    "file_path = \"NOx.csv\"\n",
    "df = pd.read_csv(file_path)\n",
    "\n",
    "# Display basic info and the first few rows\n",
    "df.info(), df.head()\n",
    "\n",
    "# Drop the first column (index)\n",
    "data = df.drop(columns=df.columns[0])\n",
    "\n",
    "# Standardize the data\n",
    "scaler = StandardScaler()\n",
    "data_scaled = scaler.fit_transform(data)\n",
    "\n",
    "# Perform PCA\n",
    "pca = PCA()\n",
    "pca_result = pca.fit_transform(data_scaled)\n",
    "\n",
    "# Explained variance\n",
    "explained_variance_ratio = pca.explained_variance_ratio_\n",
    "cumulative_variance = np.cumsum(explained_variance_ratio)\n",
    "\n",
    "# Plot cumulative variance\n",
    "plt.figure(figsize=(10, 6))\n",
    "plt.plot(cumulative_variance, marker='o')\n",
    "plt.title('Cumulative Explained Variance by PCA Components')\n",
    "plt.xlabel('Number of Components')\n",
    "plt.ylabel('Cumulative Explained Variance')\n",
    "plt.xlim(0, 100)\n",
    "plt.grid(True)\n",
    "plt.tight_layout()\n",
    "plt.show()\n",
    "print(cumulative_variance)\n"
   ]
  },
  {
   "cell_type": "code",
   "execution_count": 24,
   "id": "175df0ab",
   "metadata": {},
   "outputs": [
    {
     "name": "stdout",
     "output_type": "stream",
     "text": [
      "             NO           NO2           N2O\n",
      "0  1.124246e-07  1.396625e-07  2.896213e-07\n",
      "1  2.852192e-07  1.072657e-07  3.467042e-07\n",
      "2  2.196250e-07  6.197457e-08  3.996713e-07\n",
      "3  1.796377e-07  1.627776e-07  3.771560e-07\n",
      "4  4.688999e-08  1.369778e-07  3.890498e-07\n"
     ]
    }
   ],
   "source": [
    "labels_df = pd.read_csv('NOx_labels.csv')\n",
    "concentrations = labels_df\n",
    "print(concentrations.head())"
   ]
  },
  {
   "cell_type": "code",
   "execution_count": 27,
   "id": "0831817f",
   "metadata": {},
   "outputs": [
    {
     "name": "stdout",
     "output_type": "stream",
     "text": [
      "R² score for NO (ppb): 0.480\n",
      "R² score for NO2 (ppb): -0.086\n",
      "R² score for N2O (ppb): -0.110\n"
     ]
    }
   ],
   "source": [
    "from sklearn.linear_model import LinearRegression\n",
    "from sklearn.model_selection import train_test_split\n",
    "from sklearn.metrics import r2_score, mean_squared_error\n",
    "import numpy as np\n",
    "\n",
    "# Select the number of principal components (say, the first N)\n",
    "N = 10  # You can adjust this\n",
    "X_pca = pca_result[:, :N]\n",
    "\n",
    "# Split data\n",
    "X_train, X_test, y_train, y_test = train_test_split(X_pca, concentrations, test_size=0.01)#, random_state=42)\n",
    "\n",
    "# Train model\n",
    "model = LinearRegression()\n",
    "model.fit(X_train, y_train)\n",
    "\n",
    "# Predict\n",
    "y_pred = model.predict(X_test)\n",
    "\n",
    "from sklearn.metrics import r2_score\n",
    "\n",
    "# Assuming y_pred is a 2D array with shape (n_samples, n_targets), i.e., [CO2, NO2] predictions\n",
    "r2_no = r2_score(y_test['NO'], y_pred[:, 0])  # CO2 (ppm) R²\n",
    "r2_no2 = r2_score(y_test['NO2'], y_pred[:, 1])  # NO2 (ppb) R²\n",
    "r2_n2o = r2_score(y_test['N2O'], y_pred[:, 2])  # NO2 (ppb) R²\n",
    "\n",
    "print(f\"R² score for NO (ppb): {r2_no:.3f}\")\n",
    "print(f\"R² score for NO2 (ppb): {r2_no2:.3f}\")\n",
    "print(f\"R² score for N2O (ppb): {r2_n2o:.3f}\")"
   ]
  },
  {
   "cell_type": "code",
   "execution_count": 22,
   "id": "1118272c",
   "metadata": {},
   "outputs": [
    {
     "name": "stdout",
     "output_type": "stream",
     "text": [
      "     True NO (ppb)  Predicted NO (ppb)  True NO2 (ppb)  Predicted NO2 (ppb)  \\\n",
      "56    2.663890e-08        5.498928e-08    2.688964e-08         6.427449e-08   \n",
      "203   2.695764e-07        1.540293e-07    2.696949e-08         1.066366e-07   \n",
      "435   2.103206e-07        1.066047e-07    5.453423e-08         8.991400e-08   \n",
      "193   1.899671e-07        1.528700e-07    4.855771e-08         1.030784e-07   \n",
      "339   2.944046e-08        5.836700e-08    1.264896e-07         5.414905e-08   \n",
      "..             ...                 ...             ...                  ...   \n",
      "94    2.313131e-07        2.136699e-07    1.793680e-07         1.273612e-07   \n",
      "234   5.865337e-08        9.113082e-08    7.183021e-08         7.787881e-08   \n",
      "119   1.618487e-07        1.493875e-07    1.496771e-07         1.031271e-07   \n",
      "381   2.090515e-07        1.962568e-07    1.344114e-07         1.171832e-07   \n",
      "199   2.339847e-07        1.633670e-07    9.627991e-08         9.994912e-08   \n",
      "\n",
      "     True N2O (ppb)  Predicted N2O (ppb)  \n",
      "56     3.827501e-07         3.170149e-07  \n",
      "203    3.117776e-07         3.476577e-07  \n",
      "435    2.647958e-07         3.331319e-07  \n",
      "193    3.593465e-07         3.419230e-07  \n",
      "339    2.649044e-07         3.083184e-07  \n",
      "..              ...                  ...  \n",
      "94     2.969072e-07         3.665572e-07  \n",
      "234    3.642667e-07         3.257406e-07  \n",
      "119    2.807224e-07         3.397336e-07  \n",
      "381    3.225730e-07         3.525959e-07  \n",
      "199    2.808138e-07         3.477623e-07  \n",
      "\n",
      "[80 rows x 6 columns]\n"
     ]
    }
   ],
   "source": [
    "import pandas as pd\n",
    "\n",
    "# Create a DataFrame for comparison\n",
    "results_df = pd.DataFrame({\n",
    "    'True NO (ppb)': y_test['NO'],\n",
    "    'Predicted NO (ppb)': y_pred[:, 0],\n",
    "    'True NO2 (ppb)': y_test['NO2'],\n",
    "    'Predicted NO2 (ppb)': y_pred[:, 1],\n",
    "    'True N2O (ppb)': y_test['N2O'],\n",
    "    'Predicted N2O (ppb)': y_pred[:, 2]\n",
    "})\n",
    "\n",
    "\n",
    "# Display the table\n",
    "print(results_df)\n"
   ]
  },
  {
   "cell_type": "code",
   "execution_count": null,
   "id": "5f56d13e",
   "metadata": {},
   "outputs": [],
   "source": []
  },
  {
   "cell_type": "code",
   "execution_count": null,
   "id": "73868972",
   "metadata": {},
   "outputs": [],
   "source": []
  }
 ],
 "metadata": {
  "kernelspec": {
   "display_name": "Python 3 (ipykernel)",
   "language": "python",
   "name": "python3"
  },
  "language_info": {
   "codemirror_mode": {
    "name": "ipython",
    "version": 3
   },
   "file_extension": ".py",
   "mimetype": "text/x-python",
   "name": "python",
   "nbconvert_exporter": "python",
   "pygments_lexer": "ipython3",
   "version": "3.10.9"
  }
 },
 "nbformat": 4,
 "nbformat_minor": 5
}
