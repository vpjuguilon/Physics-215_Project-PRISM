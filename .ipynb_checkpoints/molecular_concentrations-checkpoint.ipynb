{
 "cells": [
  {
   "cell_type": "code",
   "execution_count": 5,
   "id": "dbac1ea6",
   "metadata": {
    "scrolled": true
   },
   "outputs": [
    {
     "name": "stdout",
     "output_type": "stream",
     "text": [
      "(450, 3)\n"
     ]
    },
    {
     "data": {
      "text/plain": [
       "'NOx_labels.csv'"
      ]
     },
     "execution_count": 5,
     "metadata": {},
     "output_type": "execute_result"
    }
   ],
   "source": [
    "import pandas as pd\n",
    "import numpy as np\n",
    "\n",
    "num_val = 300\n",
    "\n",
    "# Define realistic ranges for each gas\n",
    "# Units: CO2 in ppm, NO2 and CH4 in ppb (CH4 converted from ppm to ppb)\n",
    "no_range = (0.1, 300)\n",
    "no2_range = (0.1, 200)\n",
    "n2o_range = (260, 420)\n",
    "\n",
    "# Generate 1000 samples for each gas\n",
    "np.random.seed(42)  # For reproducibility\n",
    "no_samples = np.random.uniform(*no_range, num_val)\n",
    "no2_samples = np.random.uniform(*no2_range, num_val)\n",
    "n2o_samples = np.random.uniform(*n2o_range, num_val)\n",
    "\n",
    "# Create DataFrame\n",
    "df = pd.DataFrame({\n",
    "    'NO': no_samples*1e-9,\n",
    "    'NO2': no2_samples*1e-9,\n",
    "    'N2O': n2o_samples*1e-9\n",
    "})\n",
    "\n",
    "# Set fixed values (mean of each range)\n",
    "fixed_no = np.mean(no_range)\n",
    "fixed_no2 = np.mean(no2_range)\n",
    "fixed_n2o = np.mean(n2o_range)\n",
    "\n",
    "# Create block where only NO varies\n",
    "no_varied = np.random.uniform(*no_range, 50)\n",
    "df_no_only = pd.DataFrame({\n",
    "    'NO': no_varied * 1e-9,\n",
    "    'NO2': np.full(50, fixed_no2 * 1e-9),\n",
    "    'N2O': np.full(50, fixed_n2o * 1e-9)\n",
    "})\n",
    "\n",
    "# Create block where only NO2 varies\n",
    "no2_varied = np.random.uniform(*no2_range, 50)\n",
    "df_no2_only = pd.DataFrame({\n",
    "    'NO': np.full(50, fixed_no * 1e-9),\n",
    "    'NO2': no2_varied * 1e-9,\n",
    "    'N2O': np.full(50, fixed_n2o * 1e-9)\n",
    "})\n",
    "\n",
    "# Create block where only N2O varies\n",
    "n2o_varied = np.random.uniform(*n2o_range, 50)\n",
    "df_n2o_only = pd.DataFrame({\n",
    "    'NO': np.full(50, fixed_no * 1e-9),\n",
    "    'NO2': np.full(50, fixed_no2 * 1e-9),\n",
    "    'N2O': n2o_varied * 1e-9\n",
    "})\n",
    "\n",
    "# Combine all data\n",
    "df = pd.concat([df, df_no_only, df_no2_only, df_n2o_only], ignore_index=True)\n",
    "\n",
    "print(df.shape)  # Should be (1150, 2)\n",
    "\n",
    "# Save to Excel\n",
    "output_path = \"NOx_labels.csv\"\n",
    "df.to_csv(output_path, index=False)\n",
    "\n",
    "output_path"
   ]
  },
  {
   "cell_type": "code",
   "execution_count": 6,
   "id": "afd5218e",
   "metadata": {},
   "outputs": [
    {
     "name": "stdout",
     "output_type": "stream",
     "text": [
      "             NO           NO2           N2O\n",
      "0  1.124246e-07  1.043118e-08  2.870296e-07\n",
      "1  2.852192e-07  1.063178e-07  3.045745e-07\n",
      "2  2.196250e-07  1.081730e-07  2.883217e-07\n",
      "3  1.796377e-07  1.275222e-07  2.741924e-07\n",
      "4  4.688999e-08  1.452457e-07  2.793017e-07\n"
     ]
    }
   ],
   "source": [
    "print(df.head())"
   ]
  },
  {
   "cell_type": "code",
   "execution_count": null,
   "id": "68305c1f",
   "metadata": {},
   "outputs": [],
   "source": []
  },
  {
   "cell_type": "code",
   "execution_count": null,
   "id": "28027e51",
   "metadata": {},
   "outputs": [],
   "source": []
  },
  {
   "cell_type": "code",
   "execution_count": null,
   "id": "259311c1",
   "metadata": {},
   "outputs": [],
   "source": []
  }
 ],
 "metadata": {
  "kernelspec": {
   "display_name": "Python 3 (ipykernel)",
   "language": "python",
   "name": "python3"
  },
  "language_info": {
   "codemirror_mode": {
    "name": "ipython",
    "version": 3
   },
   "file_extension": ".py",
   "mimetype": "text/x-python",
   "name": "python",
   "nbconvert_exporter": "python",
   "pygments_lexer": "ipython3",
   "version": "3.10.9"
  }
 },
 "nbformat": 4,
 "nbformat_minor": 5
}
